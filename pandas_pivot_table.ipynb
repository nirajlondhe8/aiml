{
  "nbformat": 4,
  "nbformat_minor": 0,
  "metadata": {
    "colab": {
      "provenance": [],
      "authorship_tag": "ABX9TyMiRKqab2CChf4c3nmF99Ay",
      "include_colab_link": true
    },
    "kernelspec": {
      "name": "python3",
      "display_name": "Python 3"
    },
    "language_info": {
      "name": "python"
    }
  },
  "cells": [
    {
      "cell_type": "markdown",
      "metadata": {
        "id": "view-in-github",
        "colab_type": "text"
      },
      "source": [
        "<a href=\"https://colab.research.google.com/github/nirajlondhe8/aiml/blob/main/pandas_pivot_table.ipynb\" target=\"_parent\"><img src=\"https://colab.research.google.com/assets/colab-badge.svg\" alt=\"Open In Colab\"/></a>"
      ]
    },
    {
      "cell_type": "code",
      "execution_count": 2,
      "metadata": {
        "colab": {
          "base_uri": "https://localhost:8080/"
        },
        "id": "QHqBX8UerCsr",
        "outputId": "b0385c97-4c12-4bd7-b1aa-ab46a042ef06"
      },
      "outputs": [
        {
          "output_type": "stream",
          "name": "stdout",
          "text": [
            "Original DataFrame:\n",
            "         Date Product  Sales\n",
            "0  2024-01-01       A    100\n",
            "1  2024-01-01       B    200\n",
            "2  2024-01-02       A    150\n",
            "3  2024-01-02       B    250\n",
            "4  2024-01-03       A    300\n",
            "\n",
            "Pivot Table:\n",
            "Product       A    B\n",
            "Date                \n",
            "2024-01-01  100  200\n",
            "2024-01-02  150  250\n",
            "2024-01-03  300    0\n",
            "The most similar movie to Movie1 is Movie3.\n"
          ]
        }
      ],
      "source": [
        "#  example demonstrates how to transform and aggregate data\n",
        "\n",
        "import pandas as pd\n",
        "\n",
        "# Sample data\n",
        "data = {\n",
        "    'Date': ['2024-01-01', '2024-01-01', '2024-01-02', '2024-01-02', '2024-01-03'],\n",
        "    'Product': ['A', 'B', 'A', 'B', 'A'],\n",
        "    'Sales': [100, 200, 150, 250, 300]\n",
        "}\n",
        "\n",
        "# Create DataFrame\n",
        "df = pd.DataFrame(data)\n",
        "print(\"Original DataFrame:\")\n",
        "print(df)\n",
        "\n",
        "# Create pivot table\n",
        "pivot_df = pd.pivot_table(df, values='Sales', index='Date', columns='Product', aggfunc='sum', fill_value=0)\n",
        "\n",
        "print(\"\\nPivot Table:\")\n",
        "print(pivot_df)\n",
        "\n",
        "\n",
        "\n",
        "\n"
      ]
    },
    {
      "cell_type": "code",
      "source": [
        "import pandas as pd\n",
        "from sklearn.metrics import pairwise_distances\n",
        "\n",
        "# Sample data\n",
        "user_item_matrix = pd.DataFrame({\n",
        "    'Movie1': [4, 5, 3, 0],\n",
        "    'Movie2': [3, 0, 5, 2],\n",
        "    'Movie3': [2, 4, 3, 5]\n",
        "})\n",
        "\n",
        "# Compute pairwise cosine distances\n",
        "distance_matrix = pd.DataFrame(pairwise_distances(user_item_matrix.T, metric='cosine'),\n",
        "                               index=user_item_matrix.columns, columns=user_item_matrix.columns)\n",
        "\n",
        "# Choose a movie\n",
        "target_movie = 'Movie1'\n",
        "\n",
        "# Get distances and find the most similar movie\n",
        "distances = distance_matrix[target_movie]\n",
        "most_similar_movie = distances.nsmallest(2).index[1]\n",
        "\n",
        "print(f\"The most similar movie to {target_movie} is {most_similar_movie}.\")"
      ],
      "metadata": {
        "colab": {
          "base_uri": "https://localhost:8080/"
        },
        "id": "NkucoxjarvN9",
        "outputId": "0ded9f1d-93a9-4b5d-bdad-3bdf11b8b133"
      },
      "execution_count": 3,
      "outputs": [
        {
          "output_type": "stream",
          "name": "stdout",
          "text": [
            "The most similar movie to Movie1 is Movie3.\n"
          ]
        }
      ]
    },
    {
      "cell_type": "code",
      "source": [],
      "metadata": {
        "id": "ZmUx5Myqrvr0"
      },
      "execution_count": null,
      "outputs": []
    }
  ]
}