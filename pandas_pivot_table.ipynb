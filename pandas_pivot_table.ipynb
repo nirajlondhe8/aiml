{
  "nbformat": 4,
  "nbformat_minor": 0,
  "metadata": {
    "colab": {
      "provenance": [],
      "authorship_tag": "ABX9TyP/9pOWEWr93BvgeING6U5b",
      "include_colab_link": true
    },
    "kernelspec": {
      "name": "python3",
      "display_name": "Python 3"
    },
    "language_info": {
      "name": "python"
    }
  },
  "cells": [
    {
      "cell_type": "markdown",
      "metadata": {
        "id": "view-in-github",
        "colab_type": "text"
      },
      "source": [
        "<a href=\"https://colab.research.google.com/github/nirajlondhe8/aiml/blob/main/pandas_pivot_table.ipynb\" target=\"_parent\"><img src=\"https://colab.research.google.com/assets/colab-badge.svg\" alt=\"Open In Colab\"/></a>"
      ]
    },
    {
      "cell_type": "code",
      "execution_count": 1,
      "metadata": {
        "id": "QHqBX8UerCsr",
        "outputId": "59e945df-e814-426b-b557-17ff6a578604",
        "colab": {
          "base_uri": "https://localhost:8080/"
        }
      },
      "outputs": [
        {
          "output_type": "stream",
          "name": "stdout",
          "text": [
            "Original DataFrame:\n",
            "         Date Product  Sales\n",
            "0  2024-01-01       A    100\n",
            "1  2024-01-01       B    200\n",
            "2  2024-01-02       A    150\n",
            "3  2024-01-02       B    250\n",
            "4  2024-01-03       A    300\n",
            "\n",
            "Pivot Table:\n",
            "Product       A    B\n",
            "Date                \n",
            "2024-01-01  100  200\n",
            "2024-01-02  150  250\n",
            "2024-01-03  300    0\n"
          ]
        }
      ],
      "source": [
        "#  example demonstrates how to transform and aggregate data\n",
        "\n",
        "import pandas as pd\n",
        "\n",
        "# Sample data\n",
        "data = {\n",
        "    'Date': ['2024-01-01', '2024-01-01', '2024-01-02', '2024-01-02', '2024-01-03'],\n",
        "    'Product': ['A', 'B', 'A', 'B', 'A'],\n",
        "    'Sales': [100, 200, 150, 250, 300]\n",
        "}\n",
        "\n",
        "# Create DataFrame\n",
        "df = pd.DataFrame(data)\n",
        "print(\"Original DataFrame:\")\n",
        "print(df)\n",
        "\n",
        "# Create pivot table\n",
        "pivot_df = pd.pivot_table(df, values='Sales', index='Date', columns='Product', aggfunc='sum', fill_value=0)\n",
        "\n",
        "print(\"\\nPivot Table:\")\n",
        "print(pivot_df)\n"
      ]
    }
  ]
}