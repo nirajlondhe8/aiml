{
  "nbformat": 4,
  "nbformat_minor": 0,
  "metadata": {
    "colab": {
      "provenance": [],
      "authorship_tag": "ABX9TyPqSCG6w9e+19OXI8MTUgOT",
      "include_colab_link": true
    },
    "kernelspec": {
      "name": "python3",
      "display_name": "Python 3"
    },
    "language_info": {
      "name": "python"
    }
  },
  "cells": [
    {
      "cell_type": "markdown",
      "metadata": {
        "id": "view-in-github",
        "colab_type": "text"
      },
      "source": [
        "<a href=\"https://colab.research.google.com/github/nirajlondhe8/aiml/blob/main/pairwise_distances.ipynb\" target=\"_parent\"><img src=\"https://colab.research.google.com/assets/colab-badge.svg\" alt=\"Open In Colab\"/></a>"
      ]
    },
    {
      "cell_type": "code",
      "execution_count": 1,
      "metadata": {
        "id": "vXU_fy81qQD3",
        "outputId": "d2796d6a-f613-4807-e920-064a5fdaaad0",
        "colab": {
          "base_uri": "https://localhost:8080/"
        }
      },
      "outputs": [
        {
          "output_type": "stream",
          "name": "stdout",
          "text": [
            "[[0.         0.00741667 0.03167034]\n",
            " [0.00741667 0.         0.00850008]\n",
            " [0.03167034 0.00850008 0.        ]]\n"
          ]
        }
      ],
      "source": [
        "import pandas as pd\n",
        "import numpy as np\n",
        "from sklearn.metrics import pairwise_distances\n",
        "\n",
        "# Example DataFrame\n",
        "piv_df = pd.DataFrame({\n",
        "    'item1': [1, 2, 3],\n",
        "    'item2': [2, 3, 4],\n",
        "    'item3': [5, 6, 7]\n",
        "}).T  # Transposed to have items as rows\n",
        "\n",
        "# Compute pairwise cosine distances\n",
        "distance_array = pairwise_distances(piv_df, metric='cosine')\n",
        "\n",
        "print(distance_array)\n"
      ]
    }
  ]
}