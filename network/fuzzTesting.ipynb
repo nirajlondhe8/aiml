{
  "nbformat": 4,
  "nbformat_minor": 0,
  "metadata": {
    "colab": {
      "provenance": [],
      "authorship_tag": "ABX9TyOvG3tVac1gEcPTxUo3e/pl",
      "include_colab_link": true
    },
    "kernelspec": {
      "name": "python3",
      "display_name": "Python 3"
    },
    "language_info": {
      "name": "python"
    }
  },
  "cells": [
    {
      "cell_type": "markdown",
      "metadata": {
        "id": "view-in-github",
        "colab_type": "text"
      },
      "source": [
        "<a href=\"https://colab.research.google.com/github/nirajlondhe8/aiml/blob/main/fuzzTesting.ipynb\" target=\"_parent\"><img src=\"https://colab.research.google.com/assets/colab-badge.svg\" alt=\"Open In Colab\"/></a>"
      ]
    },
    {
      "cell_type": "code",
      "execution_count": 2,
      "metadata": {
        "colab": {
          "base_uri": "https://localhost:8080/"
        },
        "id": "YnaUMA9QDLyh",
        "outputId": "b5f78602-15bb-4068-e281-a7aa2832e6e3"
      },
      "outputs": [
        {
          "output_type": "stream",
          "name": "stdout",
          "text": [
            "Model: random_forest\n",
            "Accuracy: 0.35\n",
            "F1 Score: 0.3157894736842105\n",
            "Fuzzed Messages Generated: 100\n",
            "Crashes Detected: 48\n",
            "Model: logistic_regression\n",
            "Accuracy: 0.55\n",
            "F1 Score: 0.608695652173913\n",
            "Fuzzed Messages Generated: 100\n",
            "Crashes Detected: 49\n"
          ]
        },
        {
          "output_type": "stream",
          "name": "stderr",
          "text": [
            "/usr/local/lib/python3.10/dist-packages/sklearn/linear_model/_logistic.py:460: ConvergenceWarning: lbfgs failed to converge (status=1):\n",
            "STOP: TOTAL NO. of ITERATIONS REACHED LIMIT.\n",
            "\n",
            "Increase the number of iterations (max_iter) or scale the data as shown in:\n",
            "    https://scikit-learn.org/stable/modules/preprocessing.html\n",
            "Please also refer to the documentation for alternative solver options:\n",
            "    https://scikit-learn.org/stable/modules/linear_model.html#logistic-regression\n",
            "  n_iter_i = _check_optimize_result(\n"
          ]
        },
        {
          "output_type": "stream",
          "name": "stdout",
          "text": [
            "Model: neural_network\n",
            "Accuracy: 0.45\n",
            "F1 Score: 0.6206896551724138\n",
            "Fuzzed Messages Generated: 100\n",
            "Crashes Detected: 51\n",
            "             Algorithm  Fuzzed Messages  Crashes Detected\n",
            "0        random_forest              100                48\n",
            "1  logistic_regression              100                49\n",
            "2       neural_network              100                51\n"
          ]
        }
      ],
      "source": [
        "import numpy as np\n",
        "import pandas as pd\n",
        "from sklearn.ensemble import RandomForestClassifier\n",
        "from sklearn.linear_model import LogisticRegression\n",
        "from sklearn.neural_network import MLPClassifier\n",
        "from sklearn.metrics import accuracy_score, f1_score\n",
        "from sklearn.model_selection import train_test_split\n",
        "import random\n",
        "\n",
        "# Define HL7 message segments\n",
        "segments = [\n",
        "    \"MSH|^~\\\\&|LAB|LabFacility|EHR|EHRFacility|202409020830||ORU^R01|123456|P|2.3.1\",\n",
        "    \"PID|1||123456^^^Hospital MRN||Doe^John^A||19800101|M|||123 Main St^^Springfield^IL^62701^USA||(217)555-1234\",\n",
        "    \"OBR|1||1234^LAB|CBC^Complete Blood Count^L|||202409011200|||Dr. Smith|||202409011215\",\n",
        "    \"OBX|1|NM|WBC^White Blood Cell Count^L||5.5|10^9/L|4.0-11.0|N|||F|||202409011215\",\n",
        "    \"OBX|2|NM|HGB^Hemoglobin^L||13.8|g/dL|13.5-17.5|N|||F|||202409011215\"\n",
        "]\n",
        "\n",
        "# Function to generate random fuzzed HL7 message\n",
        "def generate_fuzzed_message():\n",
        "    fuzzed_message = []\n",
        "    for segment in segments:\n",
        "        fuzzed_segment = \"\"\n",
        "        for char in segment:\n",
        "            if random.random() < 0.1:  # 10% chance to fuzz each character\n",
        "                fuzzed_segment += chr(random.randint(32, 126))  # Random ASCII character\n",
        "            else:\n",
        "                fuzzed_segment += char\n",
        "        fuzzed_message.append(fuzzed_segment)\n",
        "    return \"\\r\".join(fuzzed_message) + \"\\r\"\n",
        "\n",
        "# AI Algorithms to Generate Smarter Fuzzed Messages\n",
        "def ai_generate_fuzzed_message(algorithm='random_forest', n_samples=100):\n",
        "    # Generate initial dataset\n",
        "    data = []\n",
        "    labels = []  # 1 if crash, 0 if no crash\n",
        "    fuzz_count = 0\n",
        "    crash_count = 0\n",
        "\n",
        "    for _ in range(n_samples):\n",
        "        message = generate_fuzzed_message()\n",
        "        response = test_hl7_message(message)\n",
        "        data.append(message)\n",
        "        labels.append(1 if response['crash'] else 0)\n",
        "        fuzz_count += 1\n",
        "        if response['crash']:\n",
        "            crash_count += 1\n",
        "\n",
        "    # Convert to numerical features for ML models\n",
        "    data_encoded = [encode_message(m) for m in data]\n",
        "\n",
        "    X_train, X_test, y_train, y_test = train_test_split(data_encoded, labels, test_size=0.2, random_state=42)\n",
        "\n",
        "    if algorithm == 'random_forest':\n",
        "        model = RandomForestClassifier()\n",
        "    elif algorithm == 'logistic_regression':\n",
        "        model = LogisticRegression()\n",
        "    elif algorithm == 'neural_network':\n",
        "        model = MLPClassifier(hidden_layer_sizes=(10, 5), max_iter=1000)\n",
        "\n",
        "    model.fit(X_train, y_train)\n",
        "    y_pred = model.predict(X_test)\n",
        "\n",
        "    print(f\"Model: {algorithm}\")\n",
        "    print(f\"Accuracy: {accuracy_score(y_test, y_pred)}\")\n",
        "    print(f\"F1 Score: {f1_score(y_test, y_pred)}\")\n",
        "    print(f\"Fuzzed Messages Generated: {fuzz_count}\")\n",
        "    print(f\"Crashes Detected: {crash_count}\")\n",
        "\n",
        "    # Use the trained model to generate smarter fuzzed messages\n",
        "    new_fuzzed_message = model.predict(data_encoded)\n",
        "    return new_fuzzed_message, fuzz_count, crash_count\n",
        "\n",
        "def encode_message(message):\n",
        "    \"\"\" Encode the HL7 message into a numerical format suitable for ML models. \"\"\"\n",
        "    return [ord(char) for char in message]  # Simplistic encoding for demonstration\n",
        "\n",
        "def test_hl7_message(message):\n",
        "    \"\"\" Simulate sending HL7 message to a target system and getting a response. \"\"\"\n",
        "    # Placeholder for actual message testing logic (e.g., sending to a server or HL7 parser)\n",
        "    # For demo purposes, we'll randomly decide if a message crashes the system\n",
        "    crash = random.choice([True, False])\n",
        "    return {'crash': crash, 'response': 'Error' if crash else 'Success'}\n",
        "\n",
        "# Compare different AI algorithms\n",
        "results = {}\n",
        "fuzz_counts = {}\n",
        "crash_counts = {}\n",
        "\n",
        "for algorithm in ['random_forest', 'logistic_regression', 'neural_network']:\n",
        "    fuzzed_message, fuzz_count, crash_count = ai_generate_fuzzed_message(algorithm=algorithm, n_samples=100)\n",
        "    results[algorithm] = fuzzed_message\n",
        "    fuzz_counts[algorithm] = fuzz_count\n",
        "    crash_counts[algorithm] = crash_count\n",
        "\n",
        "# Analyze and compare results\n",
        "df_results = pd.DataFrame({'Algorithm': list(results.keys()),\n",
        "                           'Fuzzed Messages': list(fuzz_counts.values()),\n",
        "                           'Crashes Detected': list(crash_counts.values())})\n",
        "\n",
        "print(df_results)\n"
      ]
    }
  ]
}