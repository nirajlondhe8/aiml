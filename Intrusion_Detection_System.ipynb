{
  "nbformat": 4,
  "nbformat_minor": 0,
  "metadata": {
    "colab": {
      "provenance": [],
      "toc_visible": true,
      "authorship_tag": "ABX9TyOC85ONplR5ubobFobmIEVz",
      "include_colab_link": true
    },
    "kernelspec": {
      "name": "python3",
      "display_name": "Python 3"
    },
    "language_info": {
      "name": "python"
    }
  },
  "cells": [
    {
      "cell_type": "markdown",
      "metadata": {
        "id": "view-in-github",
        "colab_type": "text"
      },
      "source": [
        "<a href=\"https://colab.research.google.com/github/nirajlondhe8/aiml/blob/main/Intrusion_Detection_System.ipynb\" target=\"_parent\"><img src=\"https://colab.research.google.com/assets/colab-badge.svg\" alt=\"Open In Colab\"/></a>"
      ]
    },
    {
      "cell_type": "code",
      "source": [
        "import pandas as pd\n",
        "\n",
        "# Create a dictionary with the data\n",
        "data = {\n",
        "    'Duration': [0, 0, 2, 0, 1],\n",
        "    'protocol_type': ['tcp', 'tcp', 'tcp', 'icmp', 'udp'],\n",
        "    'service': ['http', 'private', 'smtp', 'ecr_i', 'domain_u'],\n",
        "    'flag': ['SF', 'REJ', 'SF', 'SF', 'SF'],\n",
        "    'src_bytes': [215, 0, 333, 0, 105],\n",
        "    'dst_bytes': [45076, 0, 214, 0, 146],\n",
        "    'label': ['normal', 'attack', 'normal', 'attack', 'normal']\n",
        "}\n",
        "\n",
        "# Convert the dictionary to a DataFrame\n",
        "df = pd.DataFrame(data)\n",
        "\n",
        "# Save the DataFrame to a CSV file\n",
        "df.to_csv('network_traffic.csv', index=False)\n",
        "\n",
        "print(\"Data saved to network_traffic.csv\")\n"
      ],
      "metadata": {
        "colab": {
          "base_uri": "https://localhost:8080/"
        },
        "id": "JcImHQmBbuyu",
        "outputId": "b7595a16-736e-4faf-c587-f0d306373fa3"
      },
      "execution_count": 1,
      "outputs": [
        {
          "output_type": "stream",
          "name": "stdout",
          "text": [
            "Data saved to network_traffic.csv\n"
          ]
        }
      ]
    },
    {
      "cell_type": "code",
      "execution_count": 2,
      "metadata": {
        "colab": {
          "base_uri": "https://localhost:8080/"
        },
        "id": "Af47OjaUa8GG",
        "outputId": "8132e593-4c78-4e86-b8c1-1e5f34db1ef5"
      },
      "outputs": [
        {
          "output_type": "stream",
          "name": "stdout",
          "text": [
            "Epoch 1/5\n"
          ]
        },
        {
          "output_type": "stream",
          "name": "stderr",
          "text": [
            "/usr/local/lib/python3.10/dist-packages/keras/src/layers/rnn/rnn.py:204: UserWarning: Do not pass an `input_shape`/`input_dim` argument to a layer. When using Sequential models, prefer using an `Input(shape)` object as the first layer in the model instead.\n",
            "  super().__init__(**kwargs)\n"
          ]
        },
        {
          "output_type": "stream",
          "name": "stdout",
          "text": [
            "\u001b[1m1/1\u001b[0m \u001b[32m━━━━━━━━━━━━━━━━━━━━\u001b[0m\u001b[37m\u001b[0m \u001b[1m2s\u001b[0m 2s/step - accuracy: 0.0000e+00 - loss: 0.7566 - val_accuracy: 1.0000 - val_loss: 0.6927\n",
            "Epoch 2/5\n",
            "\u001b[1m1/1\u001b[0m \u001b[32m━━━━━━━━━━━━━━━━━━━━\u001b[0m\u001b[37m\u001b[0m \u001b[1m0s\u001b[0m 63ms/step - accuracy: 0.0000e+00 - loss: 0.7342 - val_accuracy: 0.0000e+00 - val_loss: 0.6959\n",
            "Epoch 3/5\n",
            "\u001b[1m1/1\u001b[0m \u001b[32m━━━━━━━━━━━━━━━━━━━━\u001b[0m\u001b[37m\u001b[0m \u001b[1m0s\u001b[0m 55ms/step - accuracy: 0.5000 - loss: 0.7102 - val_accuracy: 0.0000e+00 - val_loss: 0.6991\n",
            "Epoch 4/5\n",
            "\u001b[1m1/1\u001b[0m \u001b[32m━━━━━━━━━━━━━━━━━━━━\u001b[0m\u001b[37m\u001b[0m \u001b[1m0s\u001b[0m 51ms/step - accuracy: 0.5000 - loss: 0.6844 - val_accuracy: 0.0000e+00 - val_loss: 0.7022\n",
            "Epoch 5/5\n",
            "\u001b[1m1/1\u001b[0m \u001b[32m━━━━━━━━━━━━━━━━━━━━\u001b[0m\u001b[37m\u001b[0m \u001b[1m0s\u001b[0m 59ms/step - accuracy: 0.5000 - loss: 0.6572 - val_accuracy: 0.0000e+00 - val_loss: 0.7054\n",
            "\u001b[1m1/1\u001b[0m \u001b[32m━━━━━━━━━━━━━━━━━━━━\u001b[0m\u001b[37m\u001b[0m \u001b[1m0s\u001b[0m 180ms/step\n",
            "              precision    recall  f1-score   support\n",
            "\n",
            "           0       0.00      0.00      0.00         1\n",
            "           1       0.50      1.00      0.67         1\n",
            "\n",
            "    accuracy                           0.50         2\n",
            "   macro avg       0.25      0.50      0.33         2\n",
            "weighted avg       0.25      0.50      0.33         2\n",
            "\n"
          ]
        },
        {
          "output_type": "stream",
          "name": "stderr",
          "text": [
            "/usr/local/lib/python3.10/dist-packages/sklearn/metrics/_classification.py:1471: UndefinedMetricWarning: Precision and F-score are ill-defined and being set to 0.0 in labels with no predicted samples. Use `zero_division` parameter to control this behavior.\n",
            "  _warn_prf(average, modifier, msg_start, len(result))\n",
            "/usr/local/lib/python3.10/dist-packages/sklearn/metrics/_classification.py:1471: UndefinedMetricWarning: Precision and F-score are ill-defined and being set to 0.0 in labels with no predicted samples. Use `zero_division` parameter to control this behavior.\n",
            "  _warn_prf(average, modifier, msg_start, len(result))\n",
            "/usr/local/lib/python3.10/dist-packages/sklearn/metrics/_classification.py:1471: UndefinedMetricWarning: Precision and F-score are ill-defined and being set to 0.0 in labels with no predicted samples. Use `zero_division` parameter to control this behavior.\n",
            "  _warn_prf(average, modifier, msg_start, len(result))\n"
          ]
        }
      ],
      "source": [
        "import pandas as pd\n",
        "from sklearn.ensemble import IsolationForest, RandomForestClassifier\n",
        "from sklearn.model_selection import train_test_split\n",
        "from sklearn.metrics import classification_report\n",
        "from keras.models import Sequential\n",
        "from keras.layers import LSTM, Dense\n",
        "\n",
        "# Load the dataset\n",
        "data = pd.read_csv('network_traffic.csv')\n",
        "\n",
        "# Preprocessing (simple encoding)\n",
        "data['protocol_type'] = data['protocol_type'].astype('category').cat.codes\n",
        "data['service'] = data['service'].astype('category').cat.codes\n",
        "data['flag'] = data['flag'].astype('category').cat.codes\n",
        "\n",
        "# Splitting features and target\n",
        "X = data.drop('label', axis=1)\n",
        "y = data['label'].apply(lambda x: 1 if x == 'normal' else 0)\n",
        "\n",
        "# Train-test split\n",
        "X_train, X_test, y_train, y_test = train_test_split(X, y, test_size=0.3, random_state=42)\n",
        "\n",
        "# Layer 1: Anomaly Detection\n",
        "anomaly_detector = IsolationForest(contamination=0.1)\n",
        "anomaly_detector.fit(X_train)\n",
        "y_pred_anomaly = anomaly_detector.predict(X_test)\n",
        "\n",
        "# Layer 2: Signature-based Detection\n",
        "signature_classifier = RandomForestClassifier()\n",
        "signature_classifier.fit(X_train, y_train)\n",
        "y_pred_signature = signature_classifier.predict(X_test)\n",
        "\n",
        "# Layer 3: Behavior-based Detection with LSTM\n",
        "model = Sequential()\n",
        "model.add(LSTM(50, input_shape=(X_train.shape[1], 1)))\n",
        "model.add(Dense(1, activation='sigmoid'))\n",
        "model.compile(optimizer='adam', loss='binary_crossentropy', metrics=['accuracy'])\n",
        "\n",
        "X_train_reshaped = X_train.values.reshape(X_train.shape[0], X_train.shape[1], 1)\n",
        "X_test_reshaped = X_test.values.reshape(X_test.shape[0], X_test.shape[1], 1)\n",
        "\n",
        "model.fit(X_train_reshaped, y_train, epochs=5, batch_size=64, validation_split=0.2)\n",
        "y_pred_behavior = model.predict(X_test_reshaped)\n",
        "\n",
        "# Combine results for multilayered detection\n",
        "# (simple majority voting or weighted combination can be used)\n",
        "final_pred = (y_pred_anomaly + y_pred_signature + y_pred_behavior.flatten()) / 3\n",
        "final_pred = final_pred.round()\n",
        "\n",
        "# Evaluation\n",
        "print(classification_report(y_test, final_pred))\n"
      ]
    },
    {
      "cell_type": "code",
      "source": [],
      "metadata": {
        "id": "Ievg49Apbdd5"
      },
      "execution_count": null,
      "outputs": []
    }
  ]
}