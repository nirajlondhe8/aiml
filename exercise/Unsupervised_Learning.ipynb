{
  "nbformat": 4,
  "nbformat_minor": 0,
  "metadata": {
    "colab": {
      "provenance": [],
      "authorship_tag": "ABX9TyPoXAIN+rsV0Hz9EU9LModF",
      "include_colab_link": true
    },
    "kernelspec": {
      "name": "python3",
      "display_name": "Python 3"
    },
    "language_info": {
      "name": "python"
    }
  },
  "cells": [
    {
      "cell_type": "markdown",
      "metadata": {
        "id": "view-in-github",
        "colab_type": "text"
      },
      "source": [
        "<a href=\"https://colab.research.google.com/github/nirajlondhe8/aiml/blob/main/Unsupervised_Learning.ipynb\" target=\"_parent\"><img src=\"https://colab.research.google.com/assets/colab-badge.svg\" alt=\"Open In Colab\"/></a>"
      ]
    },
    {
      "cell_type": "code",
      "execution_count": 1,
      "metadata": {
        "colab": {
          "base_uri": "https://localhost:8080/"
        },
        "id": "bdTU8e3OJcZl",
        "outputId": "e61455b3-dacf-4437-9a71-bb05660632da"
      },
      "outputs": [
        {
          "output_type": "stream",
          "name": "stdout",
          "text": [
            "Anomalies detected at indices: [ 119  120  442  462  495  586  966 1000 1001 1002]\n"
          ]
        }
      ],
      "source": [
        "# In cases where labeled data isn’t available, unsupervised learning helps by identifying unusual patterns and grouping similar alerts, which can highlight genuine anomalies while suppressing repetitive, low-impact alerts.\n",
        "\n",
        "# Anomaly Detection: Algorithms like Isolation Forest, DBSCAN, or Autoencoders can detect outliers in data, identifying real-time anomalies without predefined labels.\n",
        "# Clustering of Alerts: Techniques like K-means clustering can group similar alerts, allowing the system to send only one alert per cluster rather than generating an alert for each instance. For example, repeated memory alerts across servers may be clustered into a single “memory issue” alert.\n",
        "# Trend Analysis: By analyzing the patterns and clustering them, unsupervised models can distinguish between routine patterns and anomalies, helping to avoid alerts for normal seasonal patterns\n",
        "\n",
        "from sklearn.ensemble import IsolationForest\n",
        "import numpy as np\n",
        "\n",
        "# Simulate system metric data with a few outliers\n",
        "metric_data = np.random.normal(100, 10, 1000)  # Normal data\n",
        "metric_data = np.append(metric_data, [180, 190, 200])  # Inject outliers\n",
        "\n",
        "# Train Isolation Forest to detect anomalies\n",
        "model = IsolationForest(contamination=0.01)  # 1% as potential anomalies\n",
        "outliers = model.fit_predict(metric_data.reshape(-1, 1))\n",
        "\n",
        "# Detect anomalies based on Isolation Forest prediction (-1 indicates anomaly)\n",
        "anomaly_indices = np.where(outliers == -1)[0]\n",
        "print(\"Anomalies detected at indices:\", anomaly_indices)\n"
      ]
    }
  ]
}