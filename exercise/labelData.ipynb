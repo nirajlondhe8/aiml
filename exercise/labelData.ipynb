{
  "nbformat": 4,
  "nbformat_minor": 0,
  "metadata": {
    "colab": {
      "provenance": [],
      "authorship_tag": "ABX9TyMSj6vHewV+Nl0fxigqn6ew",
      "include_colab_link": true
    },
    "kernelspec": {
      "name": "python3",
      "display_name": "Python 3"
    },
    "language_info": {
      "name": "python"
    }
  },
  "cells": [
    {
      "cell_type": "markdown",
      "metadata": {
        "id": "view-in-github",
        "colab_type": "text"
      },
      "source": [
        "<a href=\"https://colab.research.google.com/github/nirajlondhe8/aiml/blob/main/exercise/labelData.ipynb\" target=\"_parent\"><img src=\"https://colab.research.google.com/assets/colab-badge.svg\" alt=\"Open In Colab\"/></a>"
      ]
    },
    {
      "cell_type": "code",
      "execution_count": null,
      "metadata": {
        "id": "BWTXaCWwPbTE"
      },
      "outputs": [],
      "source": [
        "import pandas as pd\n",
        "from sklearn.model_selection import train_test_split\n",
        "from sklearn.ensemble import RandomForestClassifier\n",
        "from sklearn.preprocessing import LabelEncoder\n",
        "from sklearn.metrics import classification_report\n",
        "\n",
        "# Sample labeled data\n",
        "data = pd.DataFrame({\n",
        "    'frequency': [15, 5, 50, 10, 2],\n",
        "    'source_device': ['Server01', 'Server02', 'Server03', 'Server01', 'Server04'],\n",
        "    'alert_type': ['CPU Usage', 'Disk Warning', 'Network Spike', 'CPU Usage', 'Disk Warning'],\n",
        "    'severity': ['Critical', 'Moderate', 'False Positive', 'Critical', 'Moderate']\n",
        "})\n",
        "\n",
        "# Encode categorical features and labels\n",
        "le_device = LabelEncoder()\n",
        "data['source_device'] = le_device.fit_transform(data['source_device'])\n",
        "\n",
        "le_type = LabelEncoder()\n",
        "data['alert_type'] = le_type.fit_transform(data['alert_type'])\n",
        "\n",
        "le_severity = LabelEncoder()\n",
        "data['severity'] = le_severity.fit_transform(data['severity'])\n",
        "\n",
        "# Split features and labels\n",
        "X = data[['frequency', 'source_device', 'alert_type']]\n",
        "y = data['severity']\n",
        "\n",
        "# Split data into training and test sets\n",
        "X_train, X_test, y_train, y_test = train_test_split(X, y, test_size=0.2, random_state=42)\n",
        "\n",
        "# Train classifier\n",
        "model = RandomForestClassifier()\n",
        "model.fit(X_train, y_train)\n",
        "\n",
        "# Evaluate model\n",
        "y_pred = model.predict(X_test)\n",
        "print(classification_report(y_test, y_pred, target_names=le_severity.classes_))\n"
      ]
    }
  ]
}