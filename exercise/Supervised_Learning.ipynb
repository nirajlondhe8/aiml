{
  "nbformat": 4,
  "nbformat_minor": 0,
  "metadata": {
    "colab": {
      "provenance": [],
      "authorship_tag": "ABX9TyMOmYMM5VXp0iINJkd+uMCi",
      "include_colab_link": true
    },
    "kernelspec": {
      "name": "python3",
      "display_name": "Python 3"
    },
    "language_info": {
      "name": "python"
    }
  },
  "cells": [
    {
      "cell_type": "markdown",
      "metadata": {
        "id": "view-in-github",
        "colab_type": "text"
      },
      "source": [
        "<a href=\"https://colab.research.google.com/github/nirajlondhe8/aiml/blob/main/Supervised_Learning.ipynb\" target=\"_parent\"><img src=\"https://colab.research.google.com/assets/colab-badge.svg\" alt=\"Open In Colab\"/></a>"
      ]
    },
    {
      "cell_type": "code",
      "execution_count": 1,
      "metadata": {
        "colab": {
          "base_uri": "https://localhost:8080/"
        },
        "id": "IyrMVdWFIuo2",
        "outputId": "f5286270-223b-45cb-d975-f271e5a30e82"
      },
      "outputs": [
        {
          "output_type": "stream",
          "name": "stdout",
          "text": [
            "Alert importance: Non-Critical\n"
          ]
        }
      ],
      "source": [
        "# Sample Workflow\n",
        "# Data Collection: Gather labeled historical alert data, including categories (e.g., false alarm, critical, etc.).\n",
        "# Feature Engineering: Create features from data like alert frequency, source device, and time of occurrence.\n",
        "# Model Training: Train a classifier (e.g., Logistic Regression, Random Forest) to predict alert severity and frequency.\n",
        "# Deploy Model: Use the model to filter and categorize alerts in real-time.\n",
        "\n",
        "from sklearn.ensemble import RandomForestClassifier\n",
        "import pandas as pd\n",
        "\n",
        "# Example alert data: 'alert_type', 'frequency', 'severity'\n",
        "data = pd.DataFrame({\n",
        "    'alert_type': ['CPU Usage', 'Memory Leak', 'Disk Usage', 'Network Latency'],\n",
        "    'frequency': [10, 3, 8, 15],\n",
        "    'severity': [2, 5, 3, 1],  # Label severity levels\n",
        "})\n",
        "\n",
        "# Train supervised model for alert classification\n",
        "X = data[['frequency', 'severity']]\n",
        "y = data['severity'] > 3  # binary classification (critical or not)\n",
        "model = RandomForestClassifier()\n",
        "model.fit(X, y)\n",
        "\n",
        "# Predict new alert severity\n",
        "new_alert = pd.DataFrame({'frequency': [14], 'severity': [4]})\n",
        "alert_importance = model.predict(new_alert)\n",
        "print(\"Alert importance:\", \"Critical\" if alert_importance[0] else \"Non-Critical\")\n"
      ]
    }
  ]
}