{
  "nbformat": 4,
  "nbformat_minor": 0,
  "metadata": {
    "colab": {
      "provenance": [],
      "authorship_tag": "ABX9TyPgsU9v/7stLc/9UtFukxRv",
      "include_colab_link": true
    },
    "kernelspec": {
      "name": "python3",
      "display_name": "Python 3"
    },
    "language_info": {
      "name": "python"
    }
  },
  "cells": [
    {
      "cell_type": "markdown",
      "metadata": {
        "id": "view-in-github",
        "colab_type": "text"
      },
      "source": [
        "<a href=\"https://colab.research.google.com/github/nirajlondhe8/aiml/blob/main/exercise/discoverPatternsInTokens.ipynb\" target=\"_parent\"><img src=\"https://colab.research.google.com/assets/colab-badge.svg\" alt=\"Open In Colab\"/></a>"
      ]
    },
    {
      "cell_type": "code",
      "execution_count": 11,
      "metadata": {
        "colab": {
          "base_uri": "https://localhost:8080/"
        },
        "id": "NIZO4S42yMYx",
        "outputId": "eb17de59-5fb0-4a4b-f467-3fa8d54237fb"
      },
      "outputs": [
        {
          "output_type": "stream",
          "name": "stdout",
          "text": [
            "Sequences: [[2, 3, 4, 5, 1], [2, 3, 4, 6, 1], [7, 1, 8]]\n",
            "Padded Sequences: [[2 3 4 5 1]\n",
            " [2 3 4 6 1]\n",
            " [7 1 8 0 0]]\n",
            "Reshaped Padded Sequences: (1, 3, 5)\n",
            "Epoch 1/10\n",
            "\u001b[1m1/1\u001b[0m \u001b[32m━━━━━━━━━━━━━━━━━━━━\u001b[0m\u001b[37m\u001b[0m \u001b[1m1s\u001b[0m 1s/step - accuracy: 1.0000 - loss: 0.6939\n",
            "Epoch 2/10\n",
            "\u001b[1m1/1\u001b[0m \u001b[32m━━━━━━━━━━━━━━━━━━━━\u001b[0m\u001b[37m\u001b[0m \u001b[1m0s\u001b[0m 31ms/step - accuracy: 1.0000 - loss: 0.6885\n",
            "Epoch 3/10\n",
            "\u001b[1m1/1\u001b[0m \u001b[32m━━━━━━━━━━━━━━━━━━━━\u001b[0m\u001b[37m\u001b[0m \u001b[1m0s\u001b[0m 31ms/step - accuracy: 1.0000 - loss: 0.6839\n",
            "Epoch 4/10\n",
            "\u001b[1m1/1\u001b[0m \u001b[32m━━━━━━━━━━━━━━━━━━━━\u001b[0m\u001b[37m\u001b[0m \u001b[1m0s\u001b[0m 35ms/step - accuracy: 1.0000 - loss: 0.6798\n",
            "Epoch 5/10\n",
            "\u001b[1m1/1\u001b[0m \u001b[32m━━━━━━━━━━━━━━━━━━━━\u001b[0m\u001b[37m\u001b[0m \u001b[1m0s\u001b[0m 31ms/step - accuracy: 1.0000 - loss: 0.6757\n",
            "Epoch 6/10\n",
            "\u001b[1m1/1\u001b[0m \u001b[32m━━━━━━━━━━━━━━━━━━━━\u001b[0m\u001b[37m\u001b[0m \u001b[1m0s\u001b[0m 35ms/step - accuracy: 1.0000 - loss: 0.6714\n",
            "Epoch 7/10\n",
            "\u001b[1m1/1\u001b[0m \u001b[32m━━━━━━━━━━━━━━━━━━━━\u001b[0m\u001b[37m\u001b[0m \u001b[1m0s\u001b[0m 36ms/step - accuracy: 1.0000 - loss: 0.6666\n",
            "Epoch 8/10\n",
            "\u001b[1m1/1\u001b[0m \u001b[32m━━━━━━━━━━━━━━━━━━━━\u001b[0m\u001b[37m\u001b[0m \u001b[1m0s\u001b[0m 37ms/step - accuracy: 1.0000 - loss: 0.6614\n",
            "Epoch 9/10\n",
            "\u001b[1m1/1\u001b[0m \u001b[32m━━━━━━━━━━━━━━━━━━━━\u001b[0m\u001b[37m\u001b[0m \u001b[1m0s\u001b[0m 57ms/step - accuracy: 1.0000 - loss: 0.6561\n",
            "Epoch 10/10\n",
            "\u001b[1m1/1\u001b[0m \u001b[32m━━━━━━━━━━━━━━━━━━━━\u001b[0m\u001b[37m\u001b[0m \u001b[1m0s\u001b[0m 33ms/step - accuracy: 1.0000 - loss: 0.6507\n",
            "\u001b[1m1/1\u001b[0m \u001b[32m━━━━━━━━━━━━━━━━━━━━\u001b[0m\u001b[37m\u001b[0m \u001b[1m0s\u001b[0m 216ms/step - accuracy: 1.0000 - loss: 0.6451\n",
            "Loss: 0.6450731158256531\n",
            "Accuracy: 1.0\n"
          ]
        }
      ],
      "source": [
        "import tensorflow as tf\n",
        "from tensorflow.keras.preprocessing.text import Tokenizer\n",
        "from tensorflow.keras.preprocessing.sequence import pad_sequences\n",
        "import numpy as np\n",
        "\n",
        "# Sample text data\n",
        "sentences = [\n",
        "    \"This is the first sentence.\",\n",
        "    \"This is the second sentence.\",\n",
        "    \"Third sentence. See?\",\n",
        "]\n",
        "\n",
        "# Create a Tokenizer\n",
        "tokenizer = Tokenizer(num_words=1000)  # Limit vocabulary size\n",
        "tokenizer.fit_on_texts(sentences)\n",
        "\n",
        "# Convert sentences to sequences of integers\n",
        "sequences = tokenizer.texts_to_sequences(sentences)\n",
        "print(\"Sequences:\", sequences)\n",
        "\n",
        "# Pad sequences to have the same length (optional if sentences are similar in length)\n",
        "padded_sequences = pad_sequences(sequences, padding='post')\n",
        "print(\"Padded Sequences:\", padded_sequences)\n",
        "\n",
        "# Create a simple neural network model (consider a more complex model for real-world tasks)\n",
        "model = tf.keras.Sequential([\n",
        "    tf.keras.layers.Embedding(1000, 128),  # 1000 words, 128-dimensional embeddings\n",
        "    # Remove the extra dimension before GlobalAveragePooling1D\n",
        "    tf.keras.layers.Reshape((-1, 128)),  # Reshape to (batch_size, embedding_dimension)\n",
        "    tf.keras.layers.GlobalAveragePooling1D(),\n",
        "    tf.keras.layers.Dense(10, activation='relu'),  # Adjust units based on task complexity\n",
        "    tf.keras.layers.Dense(len(sentences), activation='sigmoid')  # Output layer with one unit per sentence\n",
        "])\n",
        "\n",
        "# Compile the model for multi-label classification (assuming labels are binary)\n",
        "model.compile(loss='binary_crossentropy', optimizer='adam', metrics=['accuracy'])\n",
        "\n",
        "# Labels (replace with your actual labels, one for each sentence)\n",
        "labels = np.array([[1, 0, 1]])  # Example labels (replace with actual labels)\n",
        "\n",
        "# Reshape the input data for the model (ensure each sample has its own dimension)\n",
        "reshaped_padded_sequences = np.expand_dims(padded_sequences, axis=0)  # Reshape for 1 sample\n",
        "print(\"Reshaped Padded Sequences:\", reshaped_padded_sequences.shape)\n",
        "\n",
        "# Train the model (consider using a validation set for real-world tasks)\n",
        "model.fit(reshaped_padded_sequences, labels, epochs=10, batch_size=1)\n",
        "\n",
        "# Evaluate the model (on the same data for this example)\n",
        "loss, accuracy = model.evaluate(reshaped_padded_sequences, labels)\n",
        "print(\"Loss:\", loss)\n",
        "print(\"Accuracy:\", accuracy)"
      ]
    }
  ]
}