{
  "nbformat": 4,
  "nbformat_minor": 0,
  "metadata": {
    "colab": {
      "provenance": [],
      "toc_visible": true,
      "authorship_tag": "ABX9TyMgP12vN7javwrXMjSdpLmU",
      "include_colab_link": true
    },
    "kernelspec": {
      "name": "python3",
      "display_name": "Python 3"
    },
    "language_info": {
      "name": "python"
    }
  },
  "cells": [
    {
      "cell_type": "markdown",
      "metadata": {
        "id": "view-in-github",
        "colab_type": "text"
      },
      "source": [
        "<a href=\"https://colab.research.google.com/github/nirajlondhe8/aiml/blob/main/edtech.ipynb\" target=\"_parent\"><img src=\"https://colab.research.google.com/assets/colab-badge.svg\" alt=\"Open In Colab\"/></a>"
      ]
    },
    {
      "cell_type": "code",
      "execution_count": 5,
      "metadata": {
        "colab": {
          "base_uri": "https://localhost:8080/"
        },
        "id": "0Wwvd1HnCM-f",
        "outputId": "d4743d99-8703-444d-85c3-605c2c4c6440"
      },
      "outputs": [
        {
          "output_type": "stream",
          "name": "stdout",
          "text": [
            "Requirement already satisfied: pytube in /usr/local/lib/python3.10/dist-packages (15.0.0)\n",
            "Requirement already satisfied: moviepy in /usr/local/lib/python3.10/dist-packages (1.0.3)\n",
            "Requirement already satisfied: decorator<5.0,>=4.0.2 in /usr/local/lib/python3.10/dist-packages (from moviepy) (4.4.2)\n",
            "Requirement already satisfied: tqdm<5.0,>=4.11.2 in /usr/local/lib/python3.10/dist-packages (from moviepy) (4.66.5)\n",
            "Requirement already satisfied: requests<3.0,>=2.8.1 in /usr/local/lib/python3.10/dist-packages (from moviepy) (2.32.3)\n",
            "Requirement already satisfied: proglog<=1.0.0 in /usr/local/lib/python3.10/dist-packages (from moviepy) (0.1.10)\n",
            "Requirement already satisfied: numpy>=1.17.3 in /usr/local/lib/python3.10/dist-packages (from moviepy) (1.26.4)\n",
            "Requirement already satisfied: imageio<3.0,>=2.5 in /usr/local/lib/python3.10/dist-packages (from moviepy) (2.34.2)\n",
            "Requirement already satisfied: imageio-ffmpeg>=0.2.0 in /usr/local/lib/python3.10/dist-packages (from moviepy) (0.5.1)\n",
            "Requirement already satisfied: pillow>=8.3.2 in /usr/local/lib/python3.10/dist-packages (from imageio<3.0,>=2.5->moviepy) (9.4.0)\n",
            "Requirement already satisfied: setuptools in /usr/local/lib/python3.10/dist-packages (from imageio-ffmpeg>=0.2.0->moviepy) (71.0.4)\n",
            "Requirement already satisfied: charset-normalizer<4,>=2 in /usr/local/lib/python3.10/dist-packages (from requests<3.0,>=2.8.1->moviepy) (3.3.2)\n",
            "Requirement already satisfied: idna<4,>=2.5 in /usr/local/lib/python3.10/dist-packages (from requests<3.0,>=2.8.1->moviepy) (3.7)\n",
            "Requirement already satisfied: urllib3<3,>=1.21.1 in /usr/local/lib/python3.10/dist-packages (from requests<3.0,>=2.8.1->moviepy) (2.0.7)\n",
            "Requirement already satisfied: certifi>=2017.4.17 in /usr/local/lib/python3.10/dist-packages (from requests<3.0,>=2.8.1->moviepy) (2024.7.4)\n",
            "Requirement already satisfied: transformers in /usr/local/lib/python3.10/dist-packages (4.42.4)\n",
            "Requirement already satisfied: filelock in /usr/local/lib/python3.10/dist-packages (from transformers) (3.15.4)\n",
            "Requirement already satisfied: huggingface-hub<1.0,>=0.23.2 in /usr/local/lib/python3.10/dist-packages (from transformers) (0.23.5)\n",
            "Requirement already satisfied: numpy<2.0,>=1.17 in /usr/local/lib/python3.10/dist-packages (from transformers) (1.26.4)\n",
            "Requirement already satisfied: packaging>=20.0 in /usr/local/lib/python3.10/dist-packages (from transformers) (24.1)\n",
            "Requirement already satisfied: pyyaml>=5.1 in /usr/local/lib/python3.10/dist-packages (from transformers) (6.0.2)\n",
            "Requirement already satisfied: regex!=2019.12.17 in /usr/local/lib/python3.10/dist-packages (from transformers) (2024.5.15)\n",
            "Requirement already satisfied: requests in /usr/local/lib/python3.10/dist-packages (from transformers) (2.32.3)\n",
            "Requirement already satisfied: safetensors>=0.4.1 in /usr/local/lib/python3.10/dist-packages (from transformers) (0.4.4)\n",
            "Requirement already satisfied: tokenizers<0.20,>=0.19 in /usr/local/lib/python3.10/dist-packages (from transformers) (0.19.1)\n",
            "Requirement already satisfied: tqdm>=4.27 in /usr/local/lib/python3.10/dist-packages (from transformers) (4.66.5)\n",
            "Requirement already satisfied: fsspec>=2023.5.0 in /usr/local/lib/python3.10/dist-packages (from huggingface-hub<1.0,>=0.23.2->transformers) (2024.6.1)\n",
            "Requirement already satisfied: typing-extensions>=3.7.4.3 in /usr/local/lib/python3.10/dist-packages (from huggingface-hub<1.0,>=0.23.2->transformers) (4.12.2)\n",
            "Requirement already satisfied: charset-normalizer<4,>=2 in /usr/local/lib/python3.10/dist-packages (from requests->transformers) (3.3.2)\n",
            "Requirement already satisfied: idna<4,>=2.5 in /usr/local/lib/python3.10/dist-packages (from requests->transformers) (3.7)\n",
            "Requirement already satisfied: urllib3<3,>=1.21.1 in /usr/local/lib/python3.10/dist-packages (from requests->transformers) (2.0.7)\n",
            "Requirement already satisfied: certifi>=2017.4.17 in /usr/local/lib/python3.10/dist-packages (from requests->transformers) (2024.7.4)\n",
            "Requirement already satisfied: torch in /usr/local/lib/python3.10/dist-packages (2.3.1+cu121)\n",
            "Requirement already satisfied: filelock in /usr/local/lib/python3.10/dist-packages (from torch) (3.15.4)\n",
            "Requirement already satisfied: typing-extensions>=4.8.0 in /usr/local/lib/python3.10/dist-packages (from torch) (4.12.2)\n",
            "Requirement already satisfied: sympy in /usr/local/lib/python3.10/dist-packages (from torch) (1.13.1)\n",
            "Requirement already satisfied: networkx in /usr/local/lib/python3.10/dist-packages (from torch) (3.3)\n",
            "Requirement already satisfied: jinja2 in /usr/local/lib/python3.10/dist-packages (from torch) (3.1.4)\n",
            "Requirement already satisfied: fsspec in /usr/local/lib/python3.10/dist-packages (from torch) (2024.6.1)\n",
            "Requirement already satisfied: nvidia-cuda-nvrtc-cu12==12.1.105 in /usr/local/lib/python3.10/dist-packages (from torch) (12.1.105)\n",
            "Requirement already satisfied: nvidia-cuda-runtime-cu12==12.1.105 in /usr/local/lib/python3.10/dist-packages (from torch) (12.1.105)\n",
            "Requirement already satisfied: nvidia-cuda-cupti-cu12==12.1.105 in /usr/local/lib/python3.10/dist-packages (from torch) (12.1.105)\n",
            "Requirement already satisfied: nvidia-cudnn-cu12==8.9.2.26 in /usr/local/lib/python3.10/dist-packages (from torch) (8.9.2.26)\n",
            "Requirement already satisfied: nvidia-cublas-cu12==12.1.3.1 in /usr/local/lib/python3.10/dist-packages (from torch) (12.1.3.1)\n",
            "Requirement already satisfied: nvidia-cufft-cu12==11.0.2.54 in /usr/local/lib/python3.10/dist-packages (from torch) (11.0.2.54)\n",
            "Requirement already satisfied: nvidia-curand-cu12==10.3.2.106 in /usr/local/lib/python3.10/dist-packages (from torch) (10.3.2.106)\n",
            "Requirement already satisfied: nvidia-cusolver-cu12==11.4.5.107 in /usr/local/lib/python3.10/dist-packages (from torch) (11.4.5.107)\n",
            "Requirement already satisfied: nvidia-cusparse-cu12==12.1.0.106 in /usr/local/lib/python3.10/dist-packages (from torch) (12.1.0.106)\n",
            "Requirement already satisfied: nvidia-nccl-cu12==2.20.5 in /usr/local/lib/python3.10/dist-packages (from torch) (2.20.5)\n",
            "Requirement already satisfied: nvidia-nvtx-cu12==12.1.105 in /usr/local/lib/python3.10/dist-packages (from torch) (12.1.105)\n",
            "Requirement already satisfied: triton==2.3.1 in /usr/local/lib/python3.10/dist-packages (from torch) (2.3.1)\n",
            "Requirement already satisfied: nvidia-nvjitlink-cu12 in /usr/local/lib/python3.10/dist-packages (from nvidia-cusolver-cu12==11.4.5.107->torch) (12.6.20)\n",
            "Requirement already satisfied: MarkupSafe>=2.0 in /usr/local/lib/python3.10/dist-packages (from jinja2->torch) (2.1.5)\n",
            "Requirement already satisfied: mpmath<1.4,>=1.1.0 in /usr/local/lib/python3.10/dist-packages (from sympy->torch) (1.3.0)\n"
          ]
        }
      ],
      "source": [
        "!pip install pytube\n",
        "!pip install moviepy\n",
        "!pip install transformers\n",
        "!pip install torch\n"
      ]
    },
    {
      "cell_type": "markdown",
      "source": [
        "import pytube\n",
        "import moviepy.editor as mp\n",
        "from transformers import pipeline\n",
        "import torch\n",
        "from io import BytesIO\n",
        "import requests\n",
        "\n",
        "# Check if a GPU is available\n",
        "device = \"cuda\" if torch.cuda.is_available() else \"cpu\"\n",
        "\n",
        "# Download the video from YouTube\n",
        "def download_video(youtube_url, save_path='video.mp4'):\n",
        "    try:\n",
        "        yt = pytube.YouTube(youtube_url)\n",
        "        video = yt.streams.filter(res=\"720p\").first()\n",
        "        video.download(filename=save_path)\n",
        "        print(\"Video downloaded successfully.\")\n",
        "    except Exception as e:\n",
        "        print(f\"An error occurred while downloading the video: {e}\")\n",
        "\n",
        "# Convert video to audio\n",
        "def convert_video_to_audio(video_path='video.mp4', audio_path='audio.wav'):\n",
        "    try:\n",
        "        video = mp.VideoFileClip(video_path)\n",
        "        video.audio.write_audiofile(audio_path)\n",
        "        print(\"Audio extracted successfully.\")\n",
        "    except Exception as e:\n",
        "        print(f\"An error occurred while converting video to audio: {e}\")\n",
        "\n",
        "# Transcribe audio to text using Hugging Face\n",
        "def transcribe_audio(audio_path='audio.wav'):\n",
        "    try:\n",
        "        # Load ASR (Automatic Speech Recognition) pipeline from Hugging Face\n",
        "        asr_pipeline = pipeline(\"automatic-speech-recognition\", model=\"facebook/wav2vec2-large-960h\", device=device)\n",
        "        \n",
        "        # Load audio file as binary\n",
        "        with open(audio_path, \"rb\") as audio_file:\n",
        "            audio = audio_file.read()\n",
        "            transcription = asr_pipeline(audio)[\"text\"]\n",
        "        print(\"Audio transcription completed.\")\n",
        "        return transcription\n",
        "    except Exception as e:\n",
        "        print(f\"An error occurred during audio transcription: {e}\")\n",
        "        return \"\"\n",
        "\n",
        "# Analyze content and compare with key indicators\n",
        "def analyze_content(text):\n",
        "    indicators = {\n",
        "        \"Highly Effective\": \"Lesson plans reflect a thorough integration of State standards and the STEM School PBL Instructional Model.\",\n",
        "        \"Effective\": \"Lesson plans closely align to STEM PBL Instructional Model and State standards\",\n",
        "        \"Partially Effective\": \"Lesson plans are partially aligned to State standards, STEM PBL Instructional Model.\",\n",
        "        \"Ineffective\": \"Lesson plans are not readily available and/or do not align with State standards and STEM School PBL Instructional Model\"\n",
        "    }\n",
        "    \n",
        "    sentiment_analysis = pipeline('sentiment-analysis')\n",
        "    \n",
        "    results = {}\n",
        "    for key, indicator in indicators.items():\n",
        "        result = sentiment_analysis(text)\n",
        "        results[key] = result\n",
        "    \n",
        "    print(\"Content analysis completed.\")\n",
        "    return results\n",
        "\n",
        "# Main function to execute the process\n",
        "def main():\n",
        "    youtube_url = 'https://www.youtube.com/watch?v=ERIwByt4xc0&feature=youtu.be'\n",
        "    video_path = 'video.mp4'\n",
        "    audio_path = 'audio.wav'\n",
        "    \n",
        "    download_video(youtube_url, video_path)\n",
        "    convert_video_to_audio(video_path, audio_path)\n",
        "    text = transcribe_audio(audio_path)\n",
        "    analysis_results = analyze_content(text)\n",
        "    \n",
        "    print(\"Analysis Results:\")\n",
        "    for key, result in analysis_results.items():\n",
        "        print(f\"{key}: {result}\")\n",
        "\n",
        "# Run the main function\n",
        "main()\n"
      ],
      "metadata": {
        "id": "ARpN5FrkDKU0"
      }
    },
    {
      "cell_type": "code",
      "source": [
        "import pytube\n",
        "import moviepy.editor as mp\n",
        "from transformers import pipeline\n",
        "import torch\n",
        "from io import BytesIO\n",
        "import requests\n",
        "\n",
        "# Check if a GPU is available\n",
        "device = \"cuda\" if torch.cuda.is_available() else \"cpu\"\n",
        "\n",
        "# Download the video from YouTube\n",
        "def download_video(youtube_url, save_path='video.mp4'):\n",
        "    try:\n",
        "        yt = pytube.YouTube(youtube_url)\n",
        "        video = yt.streams.filter(res=\"720p\").first()\n",
        "        video.download(filename=save_path)\n",
        "        print(\"Video downloaded successfully.\")\n",
        "    except Exception as e:\n",
        "        print(f\"An error occurred while downloading the video: {e}\")\n",
        "\n",
        "# Convert video to audio\n",
        "def convert_video_to_audio(video_path='video.mp4', audio_path='audio.wav'):\n",
        "    try:\n",
        "        video = mp.VideoFileClip(video_path)\n",
        "        video.audio.write_audiofile(audio_path)\n",
        "        print(\"Audio extracted successfully.\")\n",
        "    except Exception as e:\n",
        "        print(f\"An error occurred while converting video to audio: {e}\")\n",
        "\n",
        "# Transcribe audio to text using Hugging Face\n",
        "def transcribe_audio(audio_path='audio.wav'):\n",
        "    try:\n",
        "        # Load ASR (Automatic Speech Recognition) pipeline from Hugging Face\n",
        "        asr_pipeline = pipeline(\"automatic-speech-recognition\", model=\"facebook/wav2vec2-large-960h\", device=device)\n",
        "\n",
        "        # Load audio file as binary\n",
        "        with open(audio_path, \"rb\") as audio_file:\n",
        "            audio = audio_file.read()\n",
        "            transcription = asr_pipeline(audio)[\"text\"]\n",
        "        print(\"Audio transcription completed.\")\n",
        "        return transcription\n",
        "    except Exception as e:\n",
        "        print(f\"An error occurred during audio transcription: {e}\")\n",
        "        return \"\"\n",
        "\n",
        "# Analyze content and compare with key indicators\n",
        "def analyze_content(text):\n",
        "    indicators = {\n",
        "        \"Highly Effective\": \"Lesson plans reflect a thorough integration of State standards and the STEM School PBL Instructional Model.\",\n",
        "        \"Effective\": \"Lesson plans closely align to STEM PBL Instructional Model and State standards\",\n",
        "        \"Partially Effective\": \"Lesson plans are partially aligned to State standards, STEM PBL Instructional Model.\",\n",
        "        \"Ineffective\": \"Lesson plans are not readily available and/or do not align with State standards and STEM School PBL Instructional Model\"\n",
        "    }\n",
        "\n",
        "    sentiment_analysis = pipeline('sentiment-analysis')\n",
        "\n",
        "    results = {}\n",
        "    for key, indicator in indicators.items():\n",
        "        result = sentiment_analysis(text)\n",
        "        results[key] = result\n",
        "\n",
        "    print(\"Content analysis completed.\")\n",
        "    return results\n",
        "\n",
        "# Main function to execute the process\n",
        "def main():\n",
        "    youtube_url = 'https://www.youtube.com/watch?v=ERIwByt4xc0&feature=youtu.be'\n",
        "    video_path = 'video.mp4'\n",
        "    audio_path = 'audio.wav'\n",
        "\n",
        "    download_video(youtube_url, video_path)\n",
        "    convert_video_to_audio(video_path, audio_path)\n",
        "    text = transcribe_audio(audio_path)\n",
        "    analysis_results = analyze_content(text)\n",
        "\n",
        "    print(\"Analysis Results:\")\n",
        "    for key, result in analysis_results.items():\n",
        "        print(f\"{key}: {result}\")\n",
        "\n",
        "# Run the main function\n",
        "main()\n"
      ],
      "metadata": {
        "colab": {
          "base_uri": "https://localhost:8080/"
        },
        "id": "6lWzvPTUEZ60",
        "outputId": "71785c7f-1d06-4208-c3dd-23beca0584d4"
      },
      "execution_count": 8,
      "outputs": [
        {
          "output_type": "stream",
          "name": "stdout",
          "text": [
            "An error occurred while downloading the video: HTTP Error 400: Bad Request\n",
            "An error occurred while converting video to audio: MoviePy error: the file video.mp4 could not be found!\n",
            "Please check that you entered the correct path.\n"
          ]
        },
        {
          "output_type": "stream",
          "name": "stderr",
          "text": [
            "Some weights of the model checkpoint at facebook/wav2vec2-large-960h were not used when initializing Wav2Vec2ForCTC: ['wav2vec2.encoder.pos_conv_embed.conv.weight_g', 'wav2vec2.encoder.pos_conv_embed.conv.weight_v']\n",
            "- This IS expected if you are initializing Wav2Vec2ForCTC from the checkpoint of a model trained on another task or with another architecture (e.g. initializing a BertForSequenceClassification model from a BertForPreTraining model).\n",
            "- This IS NOT expected if you are initializing Wav2Vec2ForCTC from the checkpoint of a model that you expect to be exactly identical (initializing a BertForSequenceClassification model from a BertForSequenceClassification model).\n",
            "Some weights of Wav2Vec2ForCTC were not initialized from the model checkpoint at facebook/wav2vec2-large-960h and are newly initialized: ['wav2vec2.encoder.pos_conv_embed.conv.parametrizations.weight.original0', 'wav2vec2.encoder.pos_conv_embed.conv.parametrizations.weight.original1', 'wav2vec2.masked_spec_embed']\n",
            "You should probably TRAIN this model on a down-stream task to be able to use it for predictions and inference.\n",
            "No model was supplied, defaulted to distilbert/distilbert-base-uncased-finetuned-sst-2-english and revision af0f99b (https://huggingface.co/distilbert/distilbert-base-uncased-finetuned-sst-2-english).\n",
            "Using a pipeline without specifying a model name and revision in production is not recommended.\n"
          ]
        },
        {
          "output_type": "stream",
          "name": "stdout",
          "text": [
            "An error occurred during audio transcription: [Errno 2] No such file or directory: 'audio.wav'\n",
            "Content analysis completed.\n",
            "Analysis Results:\n",
            "Highly Effective: [{'label': 'POSITIVE', 'score': 0.7481208443641663}]\n",
            "Effective: [{'label': 'POSITIVE', 'score': 0.7481208443641663}]\n",
            "Partially Effective: [{'label': 'POSITIVE', 'score': 0.7481208443641663}]\n",
            "Ineffective: [{'label': 'POSITIVE', 'score': 0.7481208443641663}]\n"
          ]
        }
      ]
    },
    {
      "cell_type": "code",
      "source": [
        "!pip install yt-dlp\n"
      ],
      "metadata": {
        "colab": {
          "base_uri": "https://localhost:8080/"
        },
        "id": "nYPuVyV8Ej93",
        "outputId": "697cf763-64aa-4cf3-da61-88940ffd7636"
      },
      "execution_count": 9,
      "outputs": [
        {
          "output_type": "stream",
          "name": "stdout",
          "text": [
            "Collecting yt-dlp\n",
            "  Downloading yt_dlp-2024.8.6-py3-none-any.whl.metadata (170 kB)\n",
            "\u001b[2K     \u001b[90m━━━━━━━━━━━━━━━━━━━━━━━━━━━━━━━━━━━━━━━━\u001b[0m \u001b[32m170.1/170.1 kB\u001b[0m \u001b[31m1.2 MB/s\u001b[0m eta \u001b[36m0:00:00\u001b[0m\n",
            "\u001b[?25hCollecting brotli (from yt-dlp)\n",
            "  Downloading Brotli-1.1.0-cp310-cp310-manylinux_2_5_x86_64.manylinux1_x86_64.manylinux_2_12_x86_64.manylinux2010_x86_64.whl.metadata (5.5 kB)\n",
            "Requirement already satisfied: certifi in /usr/local/lib/python3.10/dist-packages (from yt-dlp) (2024.7.4)\n",
            "Collecting mutagen (from yt-dlp)\n",
            "  Downloading mutagen-1.47.0-py3-none-any.whl.metadata (1.7 kB)\n",
            "Collecting pycryptodomex (from yt-dlp)\n",
            "  Downloading pycryptodomex-3.20.0-cp35-abi3-manylinux_2_17_x86_64.manylinux2014_x86_64.whl.metadata (3.4 kB)\n",
            "Requirement already satisfied: requests<3,>=2.32.2 in /usr/local/lib/python3.10/dist-packages (from yt-dlp) (2.32.3)\n",
            "Requirement already satisfied: urllib3<3,>=1.26.17 in /usr/local/lib/python3.10/dist-packages (from yt-dlp) (2.0.7)\n",
            "Collecting websockets>=12.0 (from yt-dlp)\n",
            "  Downloading websockets-12.0-cp310-cp310-manylinux_2_5_x86_64.manylinux1_x86_64.manylinux_2_17_x86_64.manylinux2014_x86_64.whl.metadata (6.6 kB)\n",
            "Requirement already satisfied: charset-normalizer<4,>=2 in /usr/local/lib/python3.10/dist-packages (from requests<3,>=2.32.2->yt-dlp) (3.3.2)\n",
            "Requirement already satisfied: idna<4,>=2.5 in /usr/local/lib/python3.10/dist-packages (from requests<3,>=2.32.2->yt-dlp) (3.7)\n",
            "Downloading yt_dlp-2024.8.6-py3-none-any.whl (3.1 MB)\n",
            "\u001b[2K   \u001b[90m━━━━━━━━━━━━━━━━━━━━━━━━━━━━━━━━━━━━━━━━\u001b[0m \u001b[32m3.1/3.1 MB\u001b[0m \u001b[31m16.8 MB/s\u001b[0m eta \u001b[36m0:00:00\u001b[0m\n",
            "\u001b[?25hDownloading websockets-12.0-cp310-cp310-manylinux_2_5_x86_64.manylinux1_x86_64.manylinux_2_17_x86_64.manylinux2014_x86_64.whl (130 kB)\n",
            "\u001b[2K   \u001b[90m━━━━━━━━━━━━━━━━━━━━━━━━━━━━━━━━━━━━━━━━\u001b[0m \u001b[32m130.2/130.2 kB\u001b[0m \u001b[31m6.5 MB/s\u001b[0m eta \u001b[36m0:00:00\u001b[0m\n",
            "\u001b[?25hDownloading Brotli-1.1.0-cp310-cp310-manylinux_2_5_x86_64.manylinux1_x86_64.manylinux_2_12_x86_64.manylinux2010_x86_64.whl (3.0 MB)\n",
            "\u001b[2K   \u001b[90m━━━━━━━━━━━━━━━━━━━━━━━━━━━━━━━━━━━━━━━━\u001b[0m \u001b[32m3.0/3.0 MB\u001b[0m \u001b[31m54.7 MB/s\u001b[0m eta \u001b[36m0:00:00\u001b[0m\n",
            "\u001b[?25hDownloading mutagen-1.47.0-py3-none-any.whl (194 kB)\n",
            "\u001b[2K   \u001b[90m━━━━━━━━━━━━━━━━━━━━━━━━━━━━━━━━━━━━━━━━\u001b[0m \u001b[32m194.4/194.4 kB\u001b[0m \u001b[31m13.8 MB/s\u001b[0m eta \u001b[36m0:00:00\u001b[0m\n",
            "\u001b[?25hDownloading pycryptodomex-3.20.0-cp35-abi3-manylinux_2_17_x86_64.manylinux2014_x86_64.whl (2.1 MB)\n",
            "\u001b[2K   \u001b[90m━━━━━━━━━━━━━━━━━━━━━━━━━━━━━━━━━━━━━━━━\u001b[0m \u001b[32m2.1/2.1 MB\u001b[0m \u001b[31m53.5 MB/s\u001b[0m eta \u001b[36m0:00:00\u001b[0m\n",
            "\u001b[?25hInstalling collected packages: brotli, websockets, pycryptodomex, mutagen, yt-dlp\n",
            "Successfully installed brotli-1.1.0 mutagen-1.47.0 pycryptodomex-3.20.0 websockets-12.0 yt-dlp-2024.8.6\n"
          ]
        }
      ]
    },
    {
      "cell_type": "code",
      "source": [
        "import pytube\n",
        "import moviepy.editor as mp\n",
        "from transformers import pipeline\n",
        "import torch\n",
        "import subprocess\n",
        "\n",
        "# Check if a GPU is available\n",
        "device = \"cuda\" if torch.cuda.is_available() else \"cpu\"\n",
        "\n",
        "# Download the video from YouTube\n",
        "def download_video(youtube_url, save_path='video.mp4'):\n",
        "    try:\n",
        "        yt = pytube.YouTube(youtube_url)\n",
        "        video = yt.streams.filter(res=\"720p\").first()\n",
        "        video.download(filename=save_path)\n",
        "        print(\"Video downloaded successfully.\")\n",
        "    except Exception as e:\n",
        "        print(f\"An error occurred while downloading the video: {e}\")\n",
        "\n",
        "# Convert video to audio using ffmpeg\n",
        "def convert_video_to_audio(video_path='video.mp4', audio_path='audio.wav'):\n",
        "    try:\n",
        "        subprocess.run(['ffmpeg', '-i', video_path, audio_path], check=True)\n",
        "        print(\"Audio extracted successfully.\")\n",
        "    except Exception as e:\n",
        "        print(f\"An error occurred while converting video to audio: {e}\")\n",
        "\n",
        "# Transcribe audio to text using Hugging Face\n",
        "def transcribe_audio(audio_path='audio.wav'):\n",
        "    try:\n",
        "        asr_pipeline = pipeline(\"automatic-speech-recognition\", model=\"facebook/wav2vec2-large-960h\", device=device)\n",
        "        with open(audio_path, \"rb\") as audio_file:\n",
        "            audio = audio_file.read()\n",
        "            transcription = asr_pipeline(audio)[\"text\"]\n",
        "        print(\"Audio transcription completed.\")\n",
        "        return transcription\n",
        "    except Exception as e:\n",
        "        print(f\"An error occurred during audio transcription: {e}\")\n",
        "        return \"\"\n",
        "\n",
        "# Analyze content and compare with key indicators\n",
        "def analyze_content(text):\n",
        "    indicators = {\n",
        "        \"Highly Effective\": \"Lesson plans reflect a thorough integration of State standards and the STEM School PBL Instructional Model.\",\n",
        "        \"Effective\": \"Lesson plans closely align to STEM PBL Instructional Model and State standards\",\n",
        "        \"Partially Effective\": \"Lesson plans are partially aligned to State standards, STEM PBL Instructional Model.\",\n",
        "        \"Ineffective\": \"Lesson plans are not readily available and/or do not align with State standards and STEM School PBL Instructional Model\"\n",
        "    }\n",
        "\n",
        "    sentiment_analysis = pipeline('sentiment-analysis')\n",
        "\n",
        "    results = {}\n",
        "    for key, indicator in indicators.items():\n",
        "        result = sentiment_analysis(text)\n",
        "        results[key] = result\n",
        "\n",
        "    print(\"Content analysis completed.\")\n",
        "    return results\n",
        "\n",
        "# Main function to execute the process\n",
        "def main():\n",
        "    youtube_url = 'https://www.youtube.com/watch?v=ERIwByt4xc0&feature=youtu.be'\n",
        "    video_path = 'video.mp4'\n",
        "    audio_path = 'audio.wav'\n",
        "\n",
        "    download_video(youtube_url, video_path)\n",
        "    convert_video_to_audio(video_path, audio_path)\n",
        "    text = transcribe_audio(audio_path)\n",
        "    analysis_results = analyze_content(text)\n",
        "\n",
        "    print(\"Analysis Results:\")\n",
        "    for key, result in analysis_results.items():\n",
        "        print(f\"{key}: {result}\")\n",
        "\n",
        "# Run the main function\n",
        "main()\n"
      ],
      "metadata": {
        "colab": {
          "base_uri": "https://localhost:8080/"
        },
        "id": "YJtDUWUgE0wQ",
        "outputId": "d5bd3051-75a3-4603-e4d0-65dcd69a7268"
      },
      "execution_count": 11,
      "outputs": [
        {
          "output_type": "stream",
          "name": "stdout",
          "text": [
            "An error occurred while downloading the video: HTTP Error 400: Bad Request\n",
            "An error occurred while converting video to audio: Command '['ffmpeg', '-i', 'video.mp4', 'audio.wav']' returned non-zero exit status 1.\n"
          ]
        },
        {
          "output_type": "stream",
          "name": "stderr",
          "text": [
            "Some weights of the model checkpoint at facebook/wav2vec2-large-960h were not used when initializing Wav2Vec2ForCTC: ['wav2vec2.encoder.pos_conv_embed.conv.weight_g', 'wav2vec2.encoder.pos_conv_embed.conv.weight_v']\n",
            "- This IS expected if you are initializing Wav2Vec2ForCTC from the checkpoint of a model trained on another task or with another architecture (e.g. initializing a BertForSequenceClassification model from a BertForPreTraining model).\n",
            "- This IS NOT expected if you are initializing Wav2Vec2ForCTC from the checkpoint of a model that you expect to be exactly identical (initializing a BertForSequenceClassification model from a BertForSequenceClassification model).\n",
            "Some weights of Wav2Vec2ForCTC were not initialized from the model checkpoint at facebook/wav2vec2-large-960h and are newly initialized: ['wav2vec2.encoder.pos_conv_embed.conv.parametrizations.weight.original0', 'wav2vec2.encoder.pos_conv_embed.conv.parametrizations.weight.original1', 'wav2vec2.masked_spec_embed']\n",
            "You should probably TRAIN this model on a down-stream task to be able to use it for predictions and inference.\n",
            "No model was supplied, defaulted to distilbert/distilbert-base-uncased-finetuned-sst-2-english and revision af0f99b (https://huggingface.co/distilbert/distilbert-base-uncased-finetuned-sst-2-english).\n",
            "Using a pipeline without specifying a model name and revision in production is not recommended.\n"
          ]
        },
        {
          "output_type": "stream",
          "name": "stdout",
          "text": [
            "An error occurred during audio transcription: [Errno 2] No such file or directory: 'audio.wav'\n",
            "Content analysis completed.\n",
            "Analysis Results:\n",
            "Highly Effective: [{'label': 'POSITIVE', 'score': 0.7481208443641663}]\n",
            "Effective: [{'label': 'POSITIVE', 'score': 0.7481208443641663}]\n",
            "Partially Effective: [{'label': 'POSITIVE', 'score': 0.7481208443641663}]\n",
            "Ineffective: [{'label': 'POSITIVE', 'score': 0.7481208443641663}]\n"
          ]
        }
      ]
    },
    {
      "cell_type": "code",
      "source": [
        "!pip install -U yt-dlp\n"
      ],
      "metadata": {
        "colab": {
          "base_uri": "https://localhost:8080/"
        },
        "id": "rzXq5aN8FQsR",
        "outputId": "5b5ad268-3260-4529-ef4f-ae9bdef44f07"
      },
      "execution_count": 16,
      "outputs": [
        {
          "output_type": "stream",
          "name": "stdout",
          "text": [
            "Requirement already satisfied: yt-dlp in /usr/local/lib/python3.10/dist-packages (2024.8.6)\n",
            "Requirement already satisfied: brotli in /usr/local/lib/python3.10/dist-packages (from yt-dlp) (1.1.0)\n",
            "Requirement already satisfied: certifi in /usr/local/lib/python3.10/dist-packages (from yt-dlp) (2024.7.4)\n",
            "Requirement already satisfied: mutagen in /usr/local/lib/python3.10/dist-packages (from yt-dlp) (1.47.0)\n",
            "Requirement already satisfied: pycryptodomex in /usr/local/lib/python3.10/dist-packages (from yt-dlp) (3.20.0)\n",
            "Requirement already satisfied: requests<3,>=2.32.2 in /usr/local/lib/python3.10/dist-packages (from yt-dlp) (2.32.3)\n",
            "Requirement already satisfied: urllib3<3,>=1.26.17 in /usr/local/lib/python3.10/dist-packages (from yt-dlp) (2.0.7)\n",
            "Requirement already satisfied: websockets>=12.0 in /usr/local/lib/python3.10/dist-packages (from yt-dlp) (12.0)\n",
            "Requirement already satisfied: charset-normalizer<4,>=2 in /usr/local/lib/python3.10/dist-packages (from requests<3,>=2.32.2->yt-dlp) (3.3.2)\n",
            "Requirement already satisfied: idna<4,>=2.5 in /usr/local/lib/python3.10/dist-packages (from requests<3,>=2.32.2->yt-dlp) (3.7)\n"
          ]
        }
      ]
    },
    {
      "cell_type": "code",
      "source": [
        "!pip install pytube\n",
        "\n"
      ],
      "metadata": {
        "colab": {
          "base_uri": "https://localhost:8080/"
        },
        "id": "4b1agfO5IyDz",
        "outputId": "fd5e4371-ba3a-4087-ac2f-803131e82aed"
      },
      "execution_count": 17,
      "outputs": [
        {
          "output_type": "stream",
          "name": "stdout",
          "text": [
            "Requirement already satisfied: pytube in /usr/local/lib/python3.10/dist-packages (15.0.0)\n"
          ]
        }
      ]
    },
    {
      "cell_type": "code",
      "source": [
        "!pip install pytube\n"
      ],
      "metadata": {
        "colab": {
          "base_uri": "https://localhost:8080/"
        },
        "id": "6xLksauDFRfI",
        "outputId": "5c2b9e3b-bf19-4777-a3c4-cf30caa56369"
      },
      "execution_count": 21,
      "outputs": [
        {
          "output_type": "stream",
          "name": "stdout",
          "text": [
            "Requirement already satisfied: pytube in /usr/local/lib/python3.10/dist-packages (15.0.0)\n"
          ]
        }
      ]
    },
    {
      "cell_type": "code",
      "source": [
        "from pytube import YouTube\n",
        "\n",
        "def download_video(youtube_url, save_path='video.mp4'):\n",
        "    try:\n",
        "        yt = YouTube(youtube_url)\n",
        "        video = yt.streams.get_highest_resolution()\n",
        "        video.download(filename=save_path)\n",
        "        print(\"Video downloaded successfully.\")\n",
        "    except Exception as e:\n",
        "        print(f\"An error occurred while downloading the video: {e}\")\n",
        "\n",
        "# Test with a known working video URL\n",
        "download_video('https://youtu.be/ERIwByt4xc0')\n"
      ],
      "metadata": {
        "colab": {
          "base_uri": "https://localhost:8080/"
        },
        "id": "v_3jrYh3JrPI",
        "outputId": "9d3bbd02-e2f8-41c1-a102-7980bc1d4dc7"
      },
      "execution_count": 22,
      "outputs": [
        {
          "output_type": "stream",
          "name": "stdout",
          "text": [
            "An error occurred while downloading the video: HTTP Error 400: Bad Request\n"
          ]
        }
      ]
    },
    {
      "cell_type": "code",
      "source": [
        "download_video('https://www.youtube.com/watch?v=dQw4w9WgXcQ')  # Example video URL\n"
      ],
      "metadata": {
        "colab": {
          "base_uri": "https://localhost:8080/"
        },
        "id": "76aTkp5DJupo",
        "outputId": "76994df3-3518-4b57-e729-07a0c614c708"
      },
      "execution_count": 23,
      "outputs": [
        {
          "output_type": "stream",
          "name": "stdout",
          "text": [
            "An error occurred while downloading the video: map_functions: could not find match for multiple\n"
          ]
        }
      ]
    }
  ]
}